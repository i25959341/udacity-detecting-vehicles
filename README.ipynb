{
 "cells": [
  {
   "cell_type": "markdown",
   "metadata": {},
   "source": [
    "# Tracking Vehicles Using Machine Learning and Computer Vision\n",
    "# Udacity Self-Driving Car Engineer Nanodegree\n",
    "\n",
    "### By Wonjun Lee"
   ]
  },
  {
   "cell_type": "markdown",
   "metadata": {},
   "source": [
    "---\n",
    "## Overview\n",
    "\n",
    "This is a machine learning and computer vision project from Udacity.\n",
    "\n",
    "In this project, I developed a model that detects cars from a video stream and draw rectangles around the cars detected by the model.\n",
    "\n",
    "The labeled data for vehicle and non-vehicle examples to train your classifier come from a combination of the [**GTI vehicle image database**](http://www.gti.ssr.upm.es/data/Vehicle_database.html), the [**KITTI vision benchmark suite**](http://www.cvlibs.net/datasets/kitti/), and examples extracted from the project video itself."
   ]
  },
  {
   "cell_type": "markdown",
   "metadata": {},
   "source": [
    "\n",
    "\n",
    "\n",
    "When training the model, **SVM (Support Vector Machine)** was used."
   ]
  },
  {
   "cell_type": "markdown",
   "metadata": {},
   "source": [
    "---\n",
    "## Creating Features"
   ]
  },
  {
   "cell_type": "markdown",
   "metadata": {},
   "source": [
    "Features used for the model consist of a spatial binning, a color histogram, HOG (Historgram of Oriented Gradient).\n",
    "\n",
    "I used **YCrCb** color space for the features. All the images were first converted to **YCrCb** from **RGB** color space."
   ]
  },
  {
   "cell_type": "markdown",
   "metadata": {},
   "source": [
    "### 1. Spatial Binning of Color\n",
    "\n",
    "The first part of the feature is the raw pixel values of an image.\n",
    "The image from training data is resized into **16 by 16** and converted into a vector using **ravel()**.\n",
    "\n",
    "*cv2.resize()* function from **OpenCV** library is used to resize the image.\n",
    "\n",
    "    # Define a function to compute binned color features  \n",
    "    def bin_spatial(img, size=(32, 32)):\n",
    "        # Use cv2.resize().ravel() to create the feature vector\n",
    "        features = cv2.resize(img, size).ravel() \n",
    "        # Return the feature vector\n",
    "        return features"
   ]
  },
  {
   "cell_type": "markdown",
   "metadata": {},
   "source": [
    "### 2. Histograms of Color\n",
    "\n",
    "We can detect a car by looking at its colors. Color of an image provides important information that can help us to distinguish a car from non-car.\n",
    "\n",
    "**YCrCb** just like any other color spaces contains **3** color channels. Histograms of pixels from each channel are constructed with bin size equals 32. Below are histograms from one of training images."
   ]
  },
  {
   "cell_type": "code",
   "execution_count": null,
   "metadata": {
    "collapsed": true
   },
   "outputs": [],
   "source": []
  }
 ],
 "metadata": {
  "anaconda-cloud": {},
  "kernelspec": {
   "display_name": "Python [conda env:keras]",
   "language": "python",
   "name": "conda-env-keras-py"
  },
  "language_info": {
   "codemirror_mode": {
    "name": "ipython",
    "version": 3
   },
   "file_extension": ".py",
   "mimetype": "text/x-python",
   "name": "python",
   "nbconvert_exporter": "python",
   "pygments_lexer": "ipython3",
   "version": "3.5.2"
  }
 },
 "nbformat": 4,
 "nbformat_minor": 1
}
